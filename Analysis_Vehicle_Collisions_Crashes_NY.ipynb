{
 "cells": [
  {
   "cell_type": "code",
   "execution_count": null,
   "metadata": {
    "id": "GcXZOk-Fzp8u"
   },
   "outputs": [],
   "source": [
    "import pandas as pd\n",
    "import matplotlib.pyplot as plt\n",
    "import seaborn as sns"
   ]
  },
  {
   "cell_type": "code",
   "execution_count": null,
   "metadata": {
    "id": "oiewrsij0EQW"
   },
   "outputs": [],
   "source": [
    "# csv_moto2 = pd.read_csv('https://data.cityofnewyork.us/api/views/h9gi-nx95/rows.csv?accessType=DOWNLOAD')"
   ]
  },
  {
   "cell_type": "code",
   "execution_count": null,
   "metadata": {
    "id": "25e023c1"
   },
   "outputs": [],
   "source": [
    "csv_motocycles = pd.read_csv('./data/Motor_Vehicle_Collisions_-_Crashes.csv', on_bad_lines='skip')"
   ]
  },
  {
   "cell_type": "code",
   "execution_count": null,
   "metadata": {
    "id": "UjQVwxad3Q6G"
   },
   "outputs": [],
   "source": [
    "df_moto = csv_motocycles.copy()"
   ]
  },
  {
   "cell_type": "code",
   "execution_count": null,
   "metadata": {
    "id": "1DCRQeck3fu-"
   },
   "outputs": [],
   "source": [
    "# Mostrar las primeras filas\n",
    "display(df_moto.head(10))\n"
   ]
  },
  {
   "cell_type": "code",
   "execution_count": null,
   "metadata": {
    "id": "WQJCI_wx32_l"
   },
   "outputs": [],
   "source": [
    "#  Normalizar nombres de columnas\n",
    "\n",
    "df_moto.columns = (\n",
    "    df_moto.columns\n",
    "    .str.strip()          # quita espacios al inicio/fin\n",
    "    .str.lower()          # pasa todo a minúsculas\n",
    "    .str.replace(' ', '_')# reemplaza espacios por _\n",
    ")"
   ]
  },
  {
   "cell_type": "code",
   "execution_count": null,
   "metadata": {
    "id": "zwJ575yg5Xne"
   },
   "outputs": [],
   "source": [
    "# Convertir fechas y horas\n",
    "df_moto['crash_date'] = pd.to_datetime(df_moto['crash_date'], format='%m/%d/%Y')\n",
    "df_moto['crash_time'] = pd.to_datetime(df_moto['crash_time'], format='%H:%M', errors='coerce').dt.time"
   ]
  },
  {
   "cell_type": "code",
   "execution_count": null,
   "metadata": {},
   "outputs": [],
   "source": [
    "(df_moto.isna().sum() / len(df_moto) * 100)[lambda s: s > 0].sort_values(ascending=False)\n",
    "\n",
    "# se puede ver que las columnas vehicle_type_code_3, vehicle_type_code_4, vehicle_type_code_5 tienen muchos NaN\n",
    "# tambien las columnas contributing_factor_vehicle_3, contributing_factor_vehicle_4, contributing_factor_vehicle_5 "
   ]
  },
  {
   "cell_type": "code",
   "execution_count": null,
   "metadata": {
    "id": "nqpwl6si9fMG"
   },
   "outputs": [],
   "source": [
    "# dropeo las columnas vehicle_type_code_3, vehicle_type_code_4, vehicle_type_code_5 y la convierto en categoría choque multiple (osea, crear una columna \"multiple_crash\" que sea true si alguna de las 3 tiene valor, false caso contrario)\n",
    "df_moto['multiple_crash'] = df_moto[['vehicle_type_code_3', 'vehicle_type_code_4', 'vehicle_type_code_5']].notna().any(axis=1)\n",
    "\n",
    "df_moto.drop(columns=['vehicle_type_code_3', 'vehicle_type_code_4', 'vehicle_type_code_5'], inplace=True)\n",
    "df_moto.drop(columns=['contributing_factor_vehicle_3', 'contributing_factor_vehicle_4', 'contributing_factor_vehicle_5'], inplace=True)"
   ]
  },
  {
   "cell_type": "code",
   "execution_count": null,
   "metadata": {},
   "outputs": [],
   "source": [
    "df_moto[df_moto[\"on_street_name\"].isna() & df_moto[\"cross_street_name\"].isna() & df_moto[\"off_street_name\"].isna() & df_moto[\"location\"].isna()]"
   ]
  },
  {
   "cell_type": "code",
   "execution_count": null,
   "metadata": {},
   "outputs": [],
   "source": [
    "(df_moto.isna().sum() / len(df_moto) * 100)[lambda s: s > 0]"
   ]
  },
  {
   "cell_type": "code",
   "execution_count": null,
   "metadata": {},
   "outputs": [],
   "source": [
    "# que significaría la columna borough ?\n",
    "# esa columna indica el distrito de la ciudad de Nueva York donde ocurrió el accidente.\n",
    "# el equivalente en rosario sería: barrio o zona."
   ]
  }
 ],
 "metadata": {
  "colab": {
   "provenance": []
  },
  "kernelspec": {
   "display_name": "Python 3",
   "language": "python",
   "name": "python3"
  },
  "language_info": {
   "codemirror_mode": {
    "name": "ipython",
    "version": 3
   },
   "file_extension": ".py",
   "mimetype": "text/x-python",
   "name": "python",
   "nbconvert_exporter": "python",
   "pygments_lexer": "ipython3",
   "version": "3.12.5"
  }
 },
 "nbformat": 4,
 "nbformat_minor": 0
}
