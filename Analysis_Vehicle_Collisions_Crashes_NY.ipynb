{
 "cells": [
  {
   "cell_type": "code",
   "execution_count": null,
   "metadata": {
    "id": "GcXZOk-Fzp8u"
   },
   "outputs": [],
   "source": [
    "import pandas as pd\n",
    "import matplotlib.pyplot as plt\n",
    "import seaborn as sns"
   ]
  },
  {
   "cell_type": "code",
   "execution_count": null,
   "metadata": {
    "id": "oiewrsij0EQW"
   },
   "outputs": [],
   "source": [
    "csv_moto2 = pd.read_csv('https://data.cityofnewyork.us/api/views/h9gi-nx95/rows.csv?accessType=DOWNLOAD')"
   ]
  },
  {
   "cell_type": "code",
   "execution_count": null,
   "metadata": {
    "id": "PqDJ2Dca1DNm"
   },
   "outputs": [],
   "source": [
    "# importame el readme de sample_data\n",
    "readme = pd.read_csv('/content/sample_data/california_housing_test.csv')\n"
   ]
  },
  {
   "cell_type": "code",
   "execution_count": null,
   "metadata": {
    "id": "25e023c1"
   },
   "outputs": [],
   "source": [
    "# csv_motocycles = pd.read_csv('/content/Motor_Vehicle_Collisions_-_Crashes.csv', on_bad_lines='skip')\n"
   ]
  },
  {
   "cell_type": "code",
   "execution_count": null,
   "metadata": {
    "id": "UjQVwxad3Q6G"
   },
   "outputs": [],
   "source": [
    "#quiero q copies csv_motocycles a csv_moto, con ese voy a trabajar\n",
    "df_moto = csv_motocycles.copy()"
   ]
  },
  {
   "cell_type": "code",
   "execution_count": null,
   "metadata": {
    "id": "1DCRQeck3fu-"
   },
   "outputs": [],
   "source": [
    "# Mostrar las primeras filas\n",
    "display(df_moto.head(10))\n"
   ]
  },
  {
   "cell_type": "code",
   "execution_count": null,
   "metadata": {
    "id": "m8XAjfS73vVO"
   },
   "outputs": [],
   "source": [
    "# 🧩 3. Ver información general\n",
    "# Esto te deja ver tipos de datos y valores faltantes.\n",
    "\n",
    "df_moto.info()\n",
    "print(\"\\nValores faltantes por columna:\")\n",
    "# porcentaje de na\n",
    "print(df_moto.isna().sum() / len(df_moto) * 100)\n"
   ]
  },
  {
   "cell_type": "code",
   "execution_count": null,
   "metadata": {
    "id": "WQJCI_wx32_l"
   },
   "outputs": [],
   "source": [
    "#  4. Normalizar nombres de columnas\n",
    "\n",
    "# (Los nombres pueden venir con espacios, mayúsculas o caracteres especiales)\n",
    "\n",
    "df_moto.columns = (\n",
    "    df_moto.columns\n",
    "    .str.strip()          # quita espacios al inicio/fin\n",
    "    .str.lower()          # pasa todo a minúsculas\n",
    "    .str.replace(' ', '_')# reemplaza espacios por _\n",
    ")"
   ]
  },
  {
   "cell_type": "code",
   "execution_count": null,
   "metadata": {
    "id": "o5cXNh6e46le"
   },
   "outputs": [],
   "source": [
    "df_moto.head(10)"
   ]
  },
  {
   "cell_type": "code",
   "execution_count": null,
   "metadata": {
    "id": "zwJ575yg5Xne"
   },
   "outputs": [],
   "source": [
    "# 🧩 5. Convertir fechas y horas\n",
    "df_moto['crash_date'] = pd.to_datetime(df_moto['crash_date'], format='%m/%d/%Y')"
   ]
  },
  {
   "cell_type": "code",
   "execution_count": null,
   "metadata": {
    "id": "k09wKltO4uRG"
   },
   "outputs": [],
   "source": [
    "df_moto['crash_time'] = pd.to_datetime(df_moto['crash_time'], format='%H:%M', errors='coerce').dt.time"
   ]
  },
  {
   "cell_type": "code",
   "execution_count": null,
   "metadata": {
    "id": "nqpwl6si9fMG"
   },
   "outputs": [],
   "source": [
    "# dropear las columnas vehicle_type_code_3\tvehicle_type_code_4\tvehicle_type_code_5 y convertirla en categoría chocque multiple\n",
    "\n",
    "# !!!!!!!!!!!\n",
    "\n"
   ]
  },
  {
   "cell_type": "code",
   "execution_count": null,
   "metadata": {
    "id": "X08lMrxp35ou"
   },
   "outputs": [],
   "source": [
    "# 🧩 6. Eliminar columnas vacías o casi vacías\n",
    "\n",
    "# (Esto depende del dataset, pero podés aplicar una regla)\n",
    "\n",
    "# Eliminar columnas con más del 70% de valores faltantes\n",
    "threshold = len(df) * 0.3\n",
    "df = df.dropna(axis=1, thresh=threshold)"
   ]
  },
  {
   "cell_type": "code",
   "execution_count": null,
   "metadata": {
    "id": "BLbBR7v-4C49"
   },
   "outputs": [],
   "source": [
    "# 🧩 7. Limpiar valores nulos\n",
    "# Ejemplo: reemplazar valores nulos en textos por \"No especificado\"\n",
    "text_cols = df.select_dtypes(include='object').columns\n",
    "df[text_cols] = df[text_cols].fillna(\"No especificado\")\n",
    "\n",
    "# Reemplazar nulos numéricos por 0\n",
    "num_cols = df.select_dtypes(include=np.number).columns\n",
    "df[num_cols] = df[num_cols].fillna(0)"
   ]
  },
  {
   "cell_type": "code",
   "execution_count": null,
   "metadata": {
    "id": "IbEIedvL4Fid"
   },
   "outputs": [],
   "source": [
    "# 🧩 8. Eliminar duplicados\n",
    "df = df.drop_duplicates(subset=['collision_id'], keep='first')"
   ]
  },
  {
   "cell_type": "code",
   "execution_count": null,
   "metadata": {
    "id": "cHqTODiE4GiV"
   },
   "outputs": [],
   "source": [
    "# 🧩 9. Guardar el dataset limpio\n",
    "df.to_csv(\"siniestros_limpio.csv\", index=False)\n",
    "print(\"✅ Dataset limpio guardado como siniestros_limpio.csv\")"
   ]
  }
 ],
 "metadata": {
  "colab": {
   "provenance": []
  },
  "kernelspec": {
   "display_name": "Python 3",
   "name": "python3"
  },
  "language_info": {
   "name": "python"
  }
 },
 "nbformat": 4,
 "nbformat_minor": 0
}
